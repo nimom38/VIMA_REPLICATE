{
 "cells": [
  {
   "cell_type": "code",
   "execution_count": 4,
   "metadata": {},
   "outputs": [
    {
     "name": "stdout",
     "output_type": "stream",
     "text": [
      "{'a': 1, 'b': 2}\n",
      "{'a': 3, 'b': 2}\n"
     ]
    }
   ],
   "source": [
    "obj = {\"a\": 1, \"b\": 2}\n",
    "\n",
    "print(obj)\n",
    "\n",
    "def func(obj):\n",
    "  obj[\"a\"] = 3\n",
    "\n",
    "func(obj)\n",
    "\n",
    "print(obj)"
   ]
  },
  {
   "cell_type": "code",
   "execution_count": 3,
   "metadata": {},
   "outputs": [
    {
     "name": "stdout",
     "output_type": "stream",
     "text": [
      "apple/bannana/CoCK\n"
     ]
    }
   ],
   "source": [
    "Accumulating evaluation results...\n",
    "DONE (t=0.01s).\n",
    " Average Precision  (AP) @[ IoU=0.50:0.95 | area=   all | maxDets=100 ] = 0.381\n",
    " Average Precision  (AP) @[ IoU=0.50      | area=   all | maxDets=100 ] = 0.639\n",
    " Average Precision  (AP) @[ IoU=0.75      | area=   all | maxDets=100 ] = 0.379\n",
    " Average Precision  (AP) @[ IoU=0.50:0.95 | area= small | maxDets=100 ] = 0.199\n",
    " Average Precision  (AP) @[ IoU=0.50:0.95 | area=medium | maxDets=100 ] = 0.739\n",
    " Average Precision  (AP) @[ IoU=0.50:0.95 | area= large | maxDets=100 ] = -1.000\n",
    " Average Recall     (AR) @[ IoU=0.50:0.95 | area=   all | maxDets=  1 ] = 0.158\n",
    " Average Recall     (AR) @[ IoU=0.50:0.95 | area=   all | maxDets= 10 ] = 0.478\n",
    " Average Recall     (AR) @[ IoU=0.50:0.95 | area=   all | maxDets=100 ] = 0.478\n",
    " Average Recall     (AR) @[ IoU=0.50:0.95 | area= small | maxDets=100 ] = 0.324\n",
    " Average Recall     (AR) @[ IoU=0.50:0.95 | area=medium | maxDets=100 ] = 0.791\n",
    " Average Recall     (AR) @[ IoU=0.50:0.95 | area= large | maxDets=100 ] = -1.000\n",
    "[02/21 06:07:33 d2.evaluation.coco_evaluation]: Evaluation results for bbox: \n",
    "|   AP   |  AP50  |  AP75  |  APs   |  APm   |  APl  |\n",
    "|:------:|:------:|:------:|:------:|:------:|:-----:|\n",
    "| 38.102 | 63.914 | 37.934 | 19.894 | 73.879 |  nan  |\n",
    "[02/21 06:07:33 d2.evaluation.coco_evaluation]: Some metrics cannot be computed and is shown as NaN.\n",
    "OrderedDict([('bbox', {'AP': 38.102424436571994, 'AP50': 63.913590149534286, 'AP75': 37.93359996022445, 'APs': 19.89393576903198, 'APm': 73.87928148379824, 'APl': nan})])"
   ]
  },
  {
   "cell_type": "code",
   "execution_count": null,
   "metadata": {},
   "outputs": [],
   "source": []
  }
 ],
 "metadata": {
  "kernelspec": {
   "display_name": "Python 3",
   "language": "python",
   "name": "python3"
  },
  "language_info": {
   "codemirror_mode": {
    "name": "ipython",
    "version": 3
   },
   "file_extension": ".py",
   "mimetype": "text/x-python",
   "name": "python",
   "nbconvert_exporter": "python",
   "pygments_lexer": "ipython3",
   "version": "3.11.5"
  }
 },
 "nbformat": 4,
 "nbformat_minor": 2
}
